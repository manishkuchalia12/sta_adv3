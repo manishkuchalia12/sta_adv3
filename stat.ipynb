{
 "cells": [
  {
   "cell_type": "markdown",
   "id": "0eb87d7a-cd51-4941-8e1a-ba93cdad8720",
   "metadata": {},
   "source": [
    "Q1. Calculate the 95% confidence interval for a sample of data with a mean of 50 and a standard deviation \n",
    "of 5 using Python. Interpret the results"
   ]
  },
  {
   "cell_type": "code",
   "execution_count": null,
   "id": "2ae4aa22-3a30-46d2-a061-248ce3eeb896",
   "metadata": {},
   "outputs": [],
   "source": [
    "import scipy.stats as stats\n",
    "\n",
    "# Given data\n",
    "sample_mean = 50\n",
    "sample_std_dev = 5\n",
    "sample_size = 30  # You should replace this with the actual sample size\n",
    "\n",
    "# Calculate the standard error of the mean (SEM)\n",
    "sem = sample_std_dev / (sample_size ** 0.5)\n",
    "\n",
    "# Calculate the margin of error\n",
    "margin_of_error = stats.norm.ppf(0.975) * sem  # For a two-tailed 95% confidence interval\n",
    "\n",
    "# Calculate the confidence interval\n",
    "confidence_interval = (sample_mean - margin_of_error, sample_mean + margin_of_error)\n",
    "\n",
    "print(f'Sample Mean: {sample_mean}')\n",
    "print(f'Standard Error of the Mean (SEM): {sem:.4f}')\n",
    "print(f'Margin of Error: {margin_of_error:.4f}')\n",
    "print(f'95% Confidence Interval: ({confidence_interval[0]:.4f}, {confidence_interval[1]:.4f})')\n"
   ]
  },
  {
   "cell_type": "markdown",
   "id": "1697bc76-3b16-4eed-bf5d-c5063ae34cef",
   "metadata": {},
   "source": [
    "Q2. Conduct a chi-square goodness of fit test to determine if the distribution of colors of M&Ms in a bag \n",
    "matches the expected distribution of 20% blue, 20% orange, 20% green, 10% yellow, 10% red, and 20% \n",
    "brown. Use Python to perform the test with a significance level of 0.05."
   ]
  },
  {
   "cell_type": "code",
   "execution_count": null,
   "id": "ac115f96-7d39-4e3d-bf60-bbc9484a2788",
   "metadata": {},
   "outputs": [],
   "source": [
    "import numpy as np\n",
    "import scipy.stats as stats\n",
    "\n",
    "# Observed frequencies\n",
    "observed_frequencies = np.array([25, 15, 30, 10, 10, 20])  # Replace with your actual data\n",
    "\n",
    "# Expected frequencies based on the expected distribution\n",
    "expected_distribution = np.array([0.2, 0.2, 0.2, 0.1, 0.1, 0.2])\n",
    "total_observation = observed_frequencies.sum()\n",
    "expected_frequencies = expected_distribution * total_observation\n",
    "\n",
    "# Perform chi-square goodness-of-fit test\n",
    "chi2_stat, p_value = stats.chisquare(f_obs=observed_frequencies, f_exp=expected_frequencies)\n",
    "\n",
    "# Print results\n",
    "print(f'Chi-square statistic: {chi2_stat:.4f}')\n",
    "print(f'P-value: {p_value:.4f}')\n",
    "\n",
    "# Compare p-value with significance level\n",
    "alpha = 0.05\n",
    "if p_value < alpha:\n",
    "    print(\"Reject the null hypothesis. The distribution of M&M colors is significantly different from the expected distribution.\")\n",
    "else:\n",
    "    print(\"Fail to reject the null hypothesis. There is not enough evidence to conclude a significant difference.\")\n"
   ]
  },
  {
   "cell_type": "markdown",
   "id": "d77728dd-d7d8-4e6c-a82e-3d0087a294fa",
   "metadata": {},
   "source": [
    "Q3. Use  Python to calculate the chi-square statistic and p-value for a contingency table with the following \n",
    "data:"
   ]
  },
  {
   "cell_type": "code",
   "execution_count": null,
   "id": "cac72796-fe9e-41c9-9edc-e1fd583c2564",
   "metadata": {},
   "outputs": [],
   "source": [
    "import numpy as np\n",
    "from scipy.stats import chi2_contingency\n",
    "\n",
    "# Example contingency table data\n",
    "observed_data = np.array([[30, 20, 10],\n",
    "                          [15, 25, 20]])\n",
    "\n",
    "# Perform chi-square test\n",
    "chi2_stat, p_value, dof, expected = chi2_contingency(observed_data)\n",
    "\n",
    "# Print results\n",
    "print(f'Chi-square statistic: {chi2_stat:.4f}')\n",
    "print(f'P-value: {p_value:.4f}')\n",
    "print(f'Degrees of Freedom: {dof}')\n",
    "print('Expected Frequencies:')\n",
    "print(expected)\n"
   ]
  },
  {
   "cell_type": "markdown",
   "id": "2ca24abf-5ff4-493a-9c01-0845db65c765",
   "metadata": {},
   "source": [
    "Q4. A study of the prevalence of smoking in a population of 500 individuals found that 60 individuals \n",
    "smoked. Use Python to calculate the 95% confidence interval for the true proportion of individuals in the \n",
    "population who smoke."
   ]
  },
  {
   "cell_type": "code",
   "execution_count": null,
   "id": "2cef1d98-c16e-42df-95ca-44539d98fa2f",
   "metadata": {},
   "outputs": [],
   "source": [
    "import math\n",
    "\n",
    "# Given data\n",
    "sample_proportion = 60 / 500  # 60 individuals out of 500\n",
    "confidence_level = 0.95\n",
    "sample_size = 500\n",
    "\n",
    "# Calculate Z-score for the confidence level\n",
    "z_score = stats.norm.ppf((1 + confidence_level) / 2)\n",
    "\n",
    "# Calculate the margin of error\n",
    "margin_of_error = z_score * math.sqrt((sample_proportion * (1 - sample_proportion)) / sample_size)\n",
    "\n",
    "# Calculate the confidence interval\n",
    "confidence_interval = (sample_proportion - margin_of_error, sample_proportion + margin_of_error)\n",
    "\n",
    "print(f'Sample Proportion: {sample_proportion:.4f}')\n",
    "print(f'Z-Score: {z_score:.2f}')\n",
    "print(f'Margin of Error: {margin_of_error:.4f}')\n",
    "print(f'95% Confidence Interval: ({confidence_interval[0]:.4f}, {confidence_interval[1]:.4f})')\n"
   ]
  },
  {
   "cell_type": "markdown",
   "id": "59bd8726-d24a-4016-b19a-6740eabdfec9",
   "metadata": {},
   "source": [
    "Q5. Calculate the 90% confidence interval for a sample of data with a mean of 75 and a standard deviation \n",
    "of 12 using Python. Interpret the results."
   ]
  },
  {
   "cell_type": "code",
   "execution_count": null,
   "id": "28348603-fb6b-4901-b88c-0deb762bb999",
   "metadata": {},
   "outputs": [],
   "source": [
    "import scipy.stats as stats\n",
    "\n",
    "# Given data\n",
    "sample_mean = 75\n",
    "sample_std_dev = 12\n",
    "sample_size = 30  # You should replace this with the actual sample size\n",
    "\n",
    "# Calculate the standard error of the mean (SEM)\n",
    "sem = sample_std_dev / (sample_size ** 0.5)\n",
    "\n",
    "# Calculate the margin of error\n",
    "margin_of_error = stats.norm.ppf(0.95) * sem  # For a two-tailed 90% confidence interval\n",
    "\n",
    "# Calculate the confidence interval\n",
    "confidence_interval = (sample_mean - margin_of_error, sample_mean + margin_of_error)\n",
    "\n",
    "print(f'Sample Mean: {sample_mean}')\n",
    "print(f'Standard Error of the Mean (SEM): {sem:.4f}')\n",
    "print(f'Margin of Error: {margin_of_error:.4f}')\n",
    "print(f'90% Confidence Interval: ({confidence_interval[0]:.4f}, {confidence_interval[1]:.4f})')\n"
   ]
  },
  {
   "cell_type": "markdown",
   "id": "1ee67dae-7b2a-430b-a655-034b8d8b0efd",
   "metadata": {},
   "source": [
    "Q6. Use Python to plot the chi-square distribution with 10 degrees of freedom. Label the axes and shade the \n",
    "area corresponding to a chi-square statistic of 15."
   ]
  },
  {
   "cell_type": "code",
   "execution_count": null,
   "id": "0bfa333d-4172-44c9-a967-1c3cdaf29cb1",
   "metadata": {},
   "outputs": [],
   "source": [
    "import numpy as np\n",
    "import scipy.stats as stats\n",
    "import matplotlib.pyplot as plt\n",
    "\n",
    "# Degrees of freedom\n",
    "df = 10\n",
    "\n",
    "# Create a range of values for the x-axis\n",
    "x = np.linspace(0, 30, 1000)\n",
    "\n",
    "# Plot the chi-square distribution\n",
    "plt.plot(x, stats.chi2.pdf(x, df), label=f'Chi-square Distribution (df={df})')\n",
    "\n",
    "# Shade the area corresponding to a chi-square statistic of 15\n",
    "x_fill = np.linspace(15, 30, 1000)\n",
    "plt.fill_between(x_fill, stats.chi2.pdf(x_fill, df), color='orange', alpha=0.3, label='Chi-square Statistic = 15')\n",
    "\n",
    "# Label the axes\n",
    "plt.xlabel('Chi-square Statistic')\n",
    "plt.ylabel('Probability Density Function (PDF)')\n",
    "\n",
    "# Add a legend\n",
    "plt.legend()\n",
    "\n",
    "# Show the plot\n",
    "plt.show()\n"
   ]
  },
  {
   "cell_type": "markdown",
   "id": "3fee650a-19d5-40c0-807b-3ec4058ca152",
   "metadata": {},
   "source": [
    "Q7. A random sample of 1000 people was asked if they preferred Coke or Pepsi. Of the sample, 520 \n",
    "preferred Coke. Calculate a 99% confidence interval for the true proportion of people in the population who \n",
    "prefer Coke."
   ]
  },
  {
   "cell_type": "code",
   "execution_count": null,
   "id": "f529ccce-aa73-42d7-b5be-a6534e52041e",
   "metadata": {},
   "outputs": [],
   "source": [
    "import math\n",
    "\n",
    "# Given data\n",
    "sample_proportion = 520 / 1000  # 520 people preferred Coke out of 1000\n",
    "confidence_level = 0.99\n",
    "sample_size = 1000\n",
    "\n",
    "# Calculate Z-score for the confidence level\n",
    "z_score = stats.norm.ppf((1 + confidence_level) / 2)\n",
    "\n",
    "# Calculate the margin of error\n",
    "margin_of_error = z_score * math.sqrt((sample_proportion * (1 - sample_proportion)) / sample_size)\n",
    "\n",
    "# Calculate the confidence interval\n",
    "confidence_interval = (sample_proportion - margin_of_error, sample_proportion + margin_of_error)\n",
    "\n",
    "print(f'Sample Proportion: {sample_proportion:.4f}')\n",
    "print(f'Z-Score: {z_score:.3f}')\n",
    "print(f'Margin of Error: {margin_of_error:.4f}')\n",
    "print(f'99% Confidence Interval: ({confidence_interval[0]:.4f}, {confidence_interval[1]:.4f})')\n"
   ]
  },
  {
   "cell_type": "markdown",
   "id": "1912b3a5-5618-43d9-845d-5aad888a1e10",
   "metadata": {},
   "source": [
    "Q8. A researcher hypothesizes that a coin is biased towards tails. They flip the coin 100 times and observe \n",
    "45 tails. Conduct a chi-square goodness of fit test to determine if the observed frequencies match the \n",
    "expected frequencies of a fair coin. Use a significance level of 0.05."
   ]
  },
  {
   "cell_type": "code",
   "execution_count": null,
   "id": "dcc7206e-b6c3-40e4-b919-79126c9f194d",
   "metadata": {},
   "outputs": [],
   "source": [
    "import numpy as np\n",
    "from scipy.stats import chi2_contingency\n",
    "\n",
    "# Given data\n",
    "observed_frequencies = np.array([45, 55])  # 45 tails, 55 heads\n",
    "expected_frequencies = np.array([50, 50])  # Expected frequencies for a fair coin\n",
    "\n",
    "# Perform chi-square goodness-of-fit test\n",
    "chi2_stat, p_value, dof, expected = chi2_contingency([observed_frequencies])\n",
    "\n",
    "# Print results\n",
    "print(f'Chi-square statistic: {chi2_stat:.4f}')\n",
    "print(f'P-value: {p_value:.4f}')\n",
    "print(f'Degrees of Freedom: {dof}')\n",
    "\n",
    "# Compare p-value with significance level\n",
    "alpha = 0.05\n",
    "if p_value < alpha:\n",
    "    print(\"Reject the null hypothesis. The coin is significantly biased towards tails.\")\n",
    "else:\n",
    "    print(\"Fail to reject the null hypothesis. There is not enough evidence to conclude bias towards tails.\")\n"
   ]
  },
  {
   "cell_type": "markdown",
   "id": "acdfcf05-3afc-4a4e-bd2f-9362001bece1",
   "metadata": {},
   "source": [
    "Q9. A study was conducted to determine if there is an association between smoking status (smoker or \n",
    "non-smoker) and lung cancer diagnosis (yes or no). The results are shown in the contingency table below. \n",
    "Conduct a chi-square test for independence to determine if there is a significant association between \n",
    "smoking status and lung cancer diagnosis."
   ]
  }
 ],
 "metadata": {
  "kernelspec": {
   "display_name": "Python 3 (ipykernel)",
   "language": "python",
   "name": "python3"
  },
  "language_info": {
   "codemirror_mode": {
    "name": "ipython",
    "version": 3
   },
   "file_extension": ".py",
   "mimetype": "text/x-python",
   "name": "python",
   "nbconvert_exporter": "python",
   "pygments_lexer": "ipython3",
   "version": "3.12.0"
  }
 },
 "nbformat": 4,
 "nbformat_minor": 5
}
